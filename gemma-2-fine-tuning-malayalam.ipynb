{
 "cells": [
  {
   "cell_type": "code",
   "execution_count": 1,
   "id": "f0f6b585",
   "metadata": {
    "_cell_guid": "08ddd50d-63b1-4b74-b3b0-8bf4c16f08e6",
    "_uuid": "55338afc-a23e-4eee-8f1b-baaf92ae2afc",
    "collapsed": false,
    "execution": {
     "iopub.execute_input": "2024-11-23T11:56:46.973612Z",
     "iopub.status.busy": "2024-11-23T11:56:46.972909Z",
     "iopub.status.idle": "2024-11-23T11:56:47.981716Z",
     "shell.execute_reply": "2024-11-23T11:56:47.980543Z"
    },
    "jupyter": {
     "outputs_hidden": false
    },
    "papermill": {
     "duration": 1.014508,
     "end_time": "2024-11-23T11:56:47.984097",
     "exception": false,
     "start_time": "2024-11-23T11:56:46.969589",
     "status": "completed"
    },
    "tags": []
   },
   "outputs": [
    {
     "name": "stdout",
     "output_type": "stream",
     "text": [
      "/kaggle/working\r\n"
     ]
    }
   ],
   "source": [
    "!pwd"
   ]
  },
  {
   "cell_type": "code",
   "execution_count": 2,
   "id": "08473b51",
   "metadata": {
    "execution": {
     "iopub.execute_input": "2024-11-23T11:56:47.989546Z",
     "iopub.status.busy": "2024-11-23T11:56:47.988722Z",
     "iopub.status.idle": "2024-11-23T11:56:48.987378Z",
     "shell.execute_reply": "2024-11-23T11:56:48.986301Z"
    },
    "papermill": {
     "duration": 1.003709,
     "end_time": "2024-11-23T11:56:48.989726",
     "exception": false,
     "start_time": "2024-11-23T11:56:47.986017",
     "status": "completed"
    },
    "tags": []
   },
   "outputs": [
    {
     "name": "stdout",
     "output_type": "stream",
     "text": [
      "model.ckpt  tokenizer.model\r\n"
     ]
    }
   ],
   "source": [
    "!ls ../input/gemma-2/pytorch/gemma-2-2b-pt/1"
   ]
  },
  {
   "cell_type": "code",
   "execution_count": null,
   "id": "c9fc8b23",
   "metadata": {
    "papermill": {
     "duration": 0.001208,
     "end_time": "2024-11-23T11:56:48.992586",
     "exception": false,
     "start_time": "2024-11-23T11:56:48.991378",
     "status": "completed"
    },
    "tags": []
   },
   "outputs": [],
   "source": []
  }
 ],
 "metadata": {
  "kaggle": {
   "accelerator": "gpu",
   "dataSources": [
    {
     "modelId": 76277,
     "modelInstanceId": 72241,
     "sourceId": 85980,
     "sourceType": "modelInstanceVersion"
    }
   ],
   "dockerImageVersionId": 30787,
   "isGpuEnabled": true,
   "isInternetEnabled": true,
   "language": "python",
   "sourceType": "notebook"
  },
  "kernelspec": {
   "display_name": "Python 3",
   "language": "python",
   "name": "python3"
  },
  "language_info": {
   "codemirror_mode": {
    "name": "ipython",
    "version": 3
   },
   "file_extension": ".py",
   "mimetype": "text/x-python",
   "name": "python",
   "nbconvert_exporter": "python",
   "pygments_lexer": "ipython3",
   "version": "3.10.14"
  },
  "papermill": {
   "default_parameters": {},
   "duration": 4.946901,
   "end_time": "2024-11-23T11:56:49.313682",
   "environment_variables": {},
   "exception": null,
   "input_path": "__notebook__.ipynb",
   "output_path": "__notebook__.ipynb",
   "parameters": {},
   "start_time": "2024-11-23T11:56:44.366781",
   "version": "2.6.0"
  }
 },
 "nbformat": 4,
 "nbformat_minor": 5
}
